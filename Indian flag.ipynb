{
 "cells": [
  {
   "cell_type": "code",
   "execution_count": 1,
   "id": "10a529d5",
   "metadata": {},
   "outputs": [
    {
     "data": {
      "image/png": "[encoded data removed]",
      "text/plain": [
       "<Figure size 640x480 with 1 Axes>"
      ]
     },
     "metadata": {},
     "output_type": "display_data"
    }
   ],
   "source": [
    "import numpy as np\n",
    "import matplotlib.pyplot as plt\n",
    "\n",
    "# Define the dimensions of the flag\n",
    "width = 3840\n",
    "height = 2160\n",
    "\n",
    "# Define the colors\n",
    "saffron = (255, 153, 51)    # RGB values for saffron color\n",
    "white = (255, 255, 255)     # RGB values for white color\n",
    "green = (19, 136, 8)        # RGB values for green color\n",
    "\n",
    "# Create an empty NumPy array with the specified dimensions and RGB channels\n",
    "flag = np.zeros((height, width, 3), dtype=np.uint8)\n",
    "\n",
    "# Set the colors for each stripe\n",
    "stripe_height = height // 3\n",
    "flag[:stripe_height] = saffron\n",
    "flag[stripe_height:2 * stripe_height] = white\n",
    "flag[2 * stripe_height:] = green\n",
    "\n",
    "# Display the flag\n",
    "plt.imshow(flag)\n",
    "plt.axis('off')\n",
    "plt.show()\n"
   ]
  },
  {
   "cell_type": "code",
   "execution_count": null,
   "id": "01a2c908",
   "metadata": {},
   "outputs": [],
   "source": []
  }
 ],
 "metadata": {
  "kernelspec": {
   "display_name": "Python 3 (ipykernel)",
   "language": "python",
   "name": "python3"
  },
  "language_info": {
   "codemirror_mode": {
    "name": "ipython",
    "version": 3
   },
   "file_extension": ".py",
   "mimetype": "text/x-python",
   "name": "python",
   "nbconvert_exporter": "python",
   "pygments_lexer": "ipython3",
   "version": "3.10.9"
  }
 },
 "nbformat": 4,
 "nbformat_minor": 5
}
